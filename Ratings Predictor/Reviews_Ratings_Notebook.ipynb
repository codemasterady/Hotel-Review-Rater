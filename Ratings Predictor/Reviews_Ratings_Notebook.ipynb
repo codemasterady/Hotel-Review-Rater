{
 "cells": [
  {
   "cell_type": "markdown",
   "metadata": {
    "id": "zoFljq3GkmOI"
   },
   "source": [
    "# Introduction\n",
    "\n",
    "This project takes all the review from the [website](https://www.kaggle.com/andrewmvd/trip-advisor-hotel-reviews) which derieves reviews from trip-advisor and also displays what each customer rated based on the ratings. The ratings are based on a **star** system, from (1-5) stars. Here are the variables.\n",
    "\n",
    "------------------------\n",
    "### Here Is The Table Containing All The Details.\n",
    "\n",
    "| Variables      | Type | Character|\n",
    "| ----------- | ----------- | -----------|\n",
    "| Review Text     | String      | Independent\n",
    "| Stars (Ratings)   | Integer        | Dependent\n"
   ]
  },
  {
   "cell_type": "markdown",
   "metadata": {
    "id": "qTqKLLzxALBh"
   },
   "source": [
    "# The Model Used"
   ]
  },
  {
   "cell_type": "markdown",
   "metadata": {
    "id": "2znNSOY6Aas1"
   },
   "source": [
    "This model uses a [**bag of words**](https://en.wikipedia.org/wiki/Bag-of-words_model) algorithm."
   ]
  },
  {
   "cell_type": "markdown",
   "metadata": {
    "id": "dHQm_9HPAzSl"
   },
   "source": [
    "## Bag Of Words (An Introduction)\n",
    "This model represents an array of values in which each index represents a word. \n",
    "\n",
    "\n",
    "---\n",
    "\n",
    "Lets take the array \n",
    "\n",
    "```\n",
    "bag_of_words_array = [1, 1, 0, 0, 0, 5, 4, 6, 10]\n",
    "#              Index: 0, 1, 2, 3, 4, 5, 6, 7, 8\n",
    "```\n",
    "\n",
    " as an example . In this example, the array the sentence is taken from, has 1 **Start Of Sentence** character and 1 **End Of Sentence Character** Denoted by the first 2 indexes (0 & 1). The last index is always reserved for special characters like names and slang words. The typical length of the bag of words model array is 20,000 values. Also take note that special characters like (**,** & **|**) have their own unique indexes.\n"
   ]
  },
  {
   "cell_type": "markdown",
   "metadata": {
    "id": "ySKnPQZoTFVD"
   },
   "source": [
    "## Recurrent Neural Networks (RNNs)\n",
    "This Notebook contains 2 parts:-\n",
    "1. Classifier\n",
    "2. Deep Neural Networks\n",
    "\n",
    "The former does not use RNNs but the latter does. You can get more info about RNNs by Stanford [here](https://stanford.edu/~shervine/teaching/cs-230/cheatsheet-recurrent-neural-networks)."
   ]
  },
  {
   "cell_type": "markdown",
   "metadata": {
    "id": "VxgtflaIUg9Q"
   },
   "source": [
    "# Classifier"
   ]
  },
  {
   "cell_type": "markdown",
   "metadata": {
    "id": "5S2OgdK8Urs8"
   },
   "source": [
    "## Importing The Essential Librairies"
   ]
  },
  {
   "cell_type": "code",
   "execution_count": 1,
   "metadata": {
    "id": "-NqmswHmUwA6"
   },
   "outputs": [],
   "source": [
    "import numpy as np\n",
    "import pandas as pd\n",
    "import matplotlib.pyplot as plt"
   ]
  },
  {
   "cell_type": "markdown",
   "metadata": {
    "id": "6oMeEMqSVDRE"
   },
   "source": [
    "## Importing The Project Specific Libraries"
   ]
  },
  {
   "cell_type": "markdown",
   "metadata": {
    "id": "_OEjBpsbZTr9"
   },
   "source": [
    "### re\n",
    "This library is used to remove any characters , apart from characters a-z & A-Z. This further reduces the training time as the unnecessary values are filtered. For example *hello!!! my name is* to *hello my name is*."
   ]
  },
  {
   "cell_type": "markdown",
   "metadata": {
    "id": "19g2OKXuZvqS"
   },
   "source": [
    "### nltk\n",
    "This library not only removes unnecessary words but also stems them i.e changes each variation of a word into its base word. For example *loved* to *love*. It removes unnecessary words using the **stopwords** (that must be downloaded) library which is a set of unnecessary words that contribute nothing to the actual meaning for the sentence. For example *is* *was*.\n",
    "\n",
    "\n",
    "---\n",
    "\n",
    "The way to download stopwords is :\n",
    "\n",
    "```\n",
    "nltk.download('stopwords')\n",
    "```\n",
    "\n"
   ]
  },
  {
   "cell_type": "code",
   "execution_count": 2,
   "metadata": {
    "colab": {
     "base_uri": "https://localhost:8080/",
     "height": 72
    },
    "id": "tFDTGyYBesqe",
    "outputId": "e503355b-9d8a-49d2-ab21-85642f23c5cd"
   },
   "outputs": [
    {
     "name": "stdout",
     "output_type": "stream",
     "text": [
      "[nltk_data] Downloading package stopwords to /root/nltk_data...\n",
      "[nltk_data]   Unzipping corpora/stopwords.zip.\n"
     ]
    },
    {
     "data": {
      "text/plain": [
       "True"
      ]
     },
     "execution_count": 2,
     "metadata": {
      "tags": []
     },
     "output_type": "execute_result"
    }
   ],
   "source": [
    "import re\n",
    "import nltk\n",
    "from nltk.corpus import stopwords\n",
    "from nltk.stem.porter import PorterStemmer\n",
    "# Downloading stopwords\n",
    "nltk.download('stopwords')"
   ]
  },
  {
   "cell_type": "markdown",
   "metadata": {
    "id": "eyUGhAZGbOoB"
   },
   "source": [
    "## Getting the Dataset"
   ]
  },
  {
   "cell_type": "code",
   "execution_count": 3,
   "metadata": {
    "id": "gpf8whs8bRp3"
   },
   "outputs": [],
   "source": [
    "dataset = pd.read_csv(\"tripadvisor_hotel_reviews.csv\").values"
   ]
  },
  {
   "cell_type": "markdown",
   "metadata": {
    "id": "maTAMFqscDAF"
   },
   "source": [
    "## Cleaning The Dataset\n",
    "This algorithm converts the string of texts, removes the unnecessary characters and words, stems the values and splits them into a list containing **20000** values to be trained.\n",
    "### Data & Their Description\n",
    "1. Corpus is the array used that contains all the clean text."
   ]
  },
  {
   "cell_type": "code",
   "execution_count": 4,
   "metadata": {
    "id": "NUNsEUmAcb5o"
   },
   "outputs": [],
   "source": [
    "corpus = []\n",
    "for i in range(0, 10000):\n",
    "  review = re.sub(\"^a-zA-Z\", ' ', dataset[i, 0])\n",
    "  review = review.lower()\n",
    "  review = review.split()\n",
    "  ps = PorterStemmer()\n",
    "  all_stopwords = stopwords.words('english')\n",
    "  all_stopwords.remove('not') # Ignores the not value\n",
    "  review = [ps.stem(word) for word in review if not word in set(all_stopwords)]\n",
    "  review = \" \".join(review)\n",
    "  corpus.append(review)"
   ]
  },
  {
   "cell_type": "markdown",
   "metadata": {
    "id": "tIrYolVSeSwU"
   },
   "source": [
    "## Implementing the Bag Of Words Model (Count Vectorizer)\n",
    "The library [CountVectorizer](https://scikit-learn.org/stable/modules/generated/sklearn.feature_extraction.text.CountVectorizer.html) is used in the conversion of all the words into the bag of words model as described in the previous section. The **max_features** paramater specifies the maximum amount of features for the bag of words model as in our top example was 20,000. Altho that would have been ideal for a normal conversation it would not be ideal for a hotel description. The total number of features obtained from training the 10000 datasets (not to be confused with the previous conversation example). The **max_features** is especially important in a neural network as the testing as well as the trial values must be of the same shape (i.e the input dimensions must be the same for training & testing).\n",
    "\n"
   ]
  },
  {
   "cell_type": "code",
   "execution_count": 5,
   "metadata": {
    "id": "uA6_JpNGhax5"
   },
   "outputs": [],
   "source": [
    "from sklearn.feature_extraction.text import CountVectorizer\n",
    "cv = CountVectorizer(max_features = 47000)\n",
    "X = cv.fit_transform(corpus).toarray()"
   ]
  },
  {
   "cell_type": "markdown",
   "metadata": {
    "id": "gAJSUpXziHQ_"
   },
   "source": [
    "## Getting the dependant variable"
   ]
  },
  {
   "cell_type": "code",
   "execution_count": 6,
   "metadata": {
    "id": "mKM9RAf_iL4N"
   },
   "outputs": [],
   "source": [
    "y = dataset[0:10000, 1]"
   ]
  },
  {
   "cell_type": "markdown",
   "metadata": {
    "id": "X7BalmW_iZkv"
   },
   "source": [
    "## Splitting the data into the training & test set\n",
    "This session will contain 1000 test data and 9000 training data."
   ]
  },
  {
   "cell_type": "code",
   "execution_count": 7,
   "metadata": {
    "id": "PdoY13IxidP7"
   },
   "outputs": [],
   "source": [
    "from sklearn.model_selection import train_test_split\n",
    "X_train, X_test, y_train, y_test = train_test_split(X, y, test_size = 0.1)"
   ]
  },
  {
   "cell_type": "markdown",
   "metadata": {
    "id": "SxtE2iSukiWA"
   },
   "source": [
    "## Using Naive Bayes to train\n",
    "This algorithm is going to use the Naive-Bayes algorithm to fit all the training data into the model through which we can deduce the accuracy of this model. For more information visit [here](https://scikit-learn.org/stable/modules/naive_bayes.html)."
   ]
  },
  {
   "cell_type": "code",
   "execution_count": 8,
   "metadata": {
    "colab": {
     "base_uri": "https://localhost:8080/",
     "height": 92
    },
    "id": "jUF7eluYkz41",
    "outputId": "e9778d64-be44-46ab-c9d2-810879556958"
   },
   "outputs": [
    {
     "name": "stderr",
     "output_type": "stream",
     "text": [
      "/usr/local/lib/python3.6/dist-packages/sklearn/naive_bayes.py:206: DataConversionWarning: A column-vector y was passed when a 1d array was expected. Please change the shape of y to (n_samples, ), for example using ravel().\n",
      "  y = column_or_1d(y, warn=True)\n"
     ]
    },
    {
     "data": {
      "text/plain": [
       "GaussianNB(priors=None, var_smoothing=1e-09)"
      ]
     },
     "execution_count": 8,
     "metadata": {
      "tags": []
     },
     "output_type": "execute_result"
    }
   ],
   "source": [
    "from sklearn.naive_bayes import GaussianNB\n",
    "nb = GaussianNB()\n",
    "y_train = y_train.astype('int') #! To solidify the type\n",
    "y_train = y_train.reshape(-1, 1)\n",
    "nb.fit(X_train, np.array(y_train))"
   ]
  },
  {
   "cell_type": "markdown",
   "metadata": {
    "id": "Zf4WZg_EnGjd"
   },
   "source": [
    "## Deriving the accuracy using the test-set"
   ]
  },
  {
   "cell_type": "markdown",
   "metadata": {
    "id": "SEinssyZpI3i"
   },
   "source": [
    "### Predicting the test values"
   ]
  },
  {
   "cell_type": "code",
   "execution_count": 11,
   "metadata": {
    "id": "QvMEOCHXnQ1K"
   },
   "outputs": [],
   "source": [
    "y_pred = nb.predict(X_test)"
   ]
  },
  {
   "cell_type": "markdown",
   "metadata": {
    "id": "1CPja8lkpQPF"
   },
   "source": [
    "### Plotting The Variations"
   ]
  },
  {
   "cell_type": "code",
   "execution_count": 12,
   "metadata": {
    "colab": {
     "base_uri": "https://localhost:8080/",
     "height": 279
    },
    "id": "ZSm_Vay0pcBP",
    "outputId": "8529911d-88ce-4ac1-e868-4cf952c1783c"
   },
   "outputs": [
    {
     "data": {
      "image/png": "[encoded data removed]",
      "text/plain": [
       "<Figure size 432x288 with 1 Axes>"
      ]
     },
     "metadata": {
      "needs_background": "light",
      "tags": []
     },
     "output_type": "display_data"
    }
   ],
   "source": [
    "y_pred = y_pred[:50]\n",
    "y_test = y_test[:50]\n",
    "plt.xlabel(\"Review Number\")\n",
    "plt.ylabel(\"Review\")\n",
    "plt.plot(y_pred, label=\"Predicted\")\n",
    "plt.plot(y_test, label=\"Actual\", color='red')\n",
    "plt.legend()\n",
    "plt.show()"
   ]
  },
  {
   "cell_type": "markdown",
   "metadata": {
    "id": "LA9LzQ96P6-i"
   },
   "source": [
    "### Confusion Matrix"
   ]
  },
  {
   "cell_type": "code",
   "execution_count": 22,
   "metadata": {
    "colab": {
     "base_uri": "https://localhost:8080/",
     "height": 108
    },
    "id": "eyRuOYWRQHCJ",
    "outputId": "bf20ff4a-c336-419a-e96a-cd8d2c81cbdc"
   },
   "outputs": [
    {
     "name": "stdout",
     "output_type": "stream",
     "text": [
      "[[1 0 1 1 0]\n",
      " [0 1 0 0 0]\n",
      " [1 1 2 0 1]\n",
      " [5 2 4 8 5]\n",
      " [0 1 1 9 6]]\n"
     ]
    }
   ],
   "source": [
    "from sklearn.metrics import confusion_matrix\n",
    "cm = confusion_matrix(y_test.astype('int'), y_pred.astype('int'))\n",
    "print(cm)"
   ]
  }
 ],
 "metadata": {
  "colab": {
   "collapsed_sections": [],
   "name": "Reviews Ratings Notebook.ipynb",
   "provenance": []
  },
  "kernelspec": {
   "display_name": "Python 3",
   "language": "python",
   "name": "python3"
  },
  "language_info": {
   "codemirror_mode": {
    "name": "ipython",
    "version": 3
   },
   "file_extension": ".py",
   "mimetype": "text/x-python",
   "name": "python",
   "nbconvert_exporter": "python",
   "pygments_lexer": "ipython3",
   "version": "3.7.4"
  }
 },
 "nbformat": 4,
 "nbformat_minor": 1
}
